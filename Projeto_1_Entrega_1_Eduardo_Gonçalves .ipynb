{
 "cells": [
  {
   "cell_type": "code",
   "execution_count": 442,
   "metadata": {},
   "outputs": [],
   "source": [
    "import pandas as pd\n",
    "import numpy as np\n",
    "import math as math\n",
    "from scipy import stats\n",
    "import matplotlib.pyplot as plt"
   ]
  },
  {
   "attachments": {},
   "cell_type": "markdown",
   "metadata": {},
   "source": [
    "# Importação e Exportação na União Europeia\n",
    "\n",
    "## <font color='red'>Entrega 1</font>\n",
    "\n",
    "\n",
    "**O que é a União Europeia (UE) e como ela afeta importação e exportação?**\n",
    "\n",
    "   A União Europeia é uma união política e econômica que atualmente consiste de 28 países. Esta união teve seu início em 1951 com o tratado de Paris e consistia de somente 6 países. No decorrer do tempo, foi evoluindo e crescendo até que em 1992 foi assinado o Tratado de Maastricht e consequentemente em 1993 a atual União Europeia foi efetivamente formada. Neste meio tempo diversos países se juntaram para formar esta organização que tem como principais objetivos manter a paz, promover inclusão e proporcionar o desenvolvimento tanto econômico quanto social. Um dos pilares de uma economia saudável é a importação e a exportação. Dentro da UE quando um país membro importa um produto de outro não são postas tarifas, impostos nem quotas. Isto, na teoria, leva todos os países membros a um crescimento econômico saudável. Por esta razão é interessante analisar os reais impactos que a UE tem na importação e exportação em países membros. \n",
    "\n",
    "   Contudo, para se fazer esta analise é importante considerar os pactos econômicos existentes entre a UE e países da Europa que não fazem parte da UE que impactam significativamente a importação e exportação. Um deles é a área de livre comercio europeia. Neste pacto estão incluídos Noruega, Suíça, Liechtenstein e Islândia. Estes países podem comprar e vender produtos com membros da UE sem tarifas, impostos nem quotas. Além disso este acordo prevê que estes países possam moldar seus próprios acordos com países que não fazem parte da UE. Outro exemplo é a união aduaneira. Os países que fazem parte deste acordo são Turquia, San Marino, Mônaco e Andorra. A união aduaneira é extremamente semelhante a área livre de comercio, no entanto estes 4 países não estão livres para negociar pactos com países não membros. A própria UE determina as tarifas, impostos e quotas que vão ser cobradas. Existem alguns outros exemplos, mas estes vão ser os principais que vão ser usados para fazer a análise.\n",
    "   \n",
    "   Os países atualmente membros da UE são Alemanha, Áustria, Bélgica, Bulgária, Chipre, Croácia, Dinamarca, Eslováquia, Eslovênia, Espanha, Estônia, Finlândia, França, Grécia, Holanda, Hungria, Irlanda, Itália, Letônia, Lituânia, Luxemburgo, Malta, Polônia, Portugal, Reino Unido, República Tcheca, Romênia e Suécia."
   ]
  },
  {
   "attachments": {},
   "cell_type": "markdown",
   "metadata": {},
   "source": [
    "**Pergunta:** Que impacto que membros da União Europeia e países europeus com acordos com a UE sentem nas suas importações e exportações devido aos acordos formados e como que o PIB de um país influencia nisto?\n",
    "\n",
    "**Hipótese:** Países com acordos de importação e exportação com a UE e os países membros da UE ambos sentirão um impacto significativo na quantidade de importação e exportação devido ao beneficio econômico que este propicia. Adicionalmente, países com baixo PIB que ingressaram nestes acordos terão um numero significativamente maior de importação pois produtos de outros paises que estão na UE entrarão com preço menor."
   ]
  },
  {
   "cell_type": "markdown",
   "metadata": {},
   "source": [
    "Para responder esta pergunta definitivamente serão utilizados os dados a seguir:"
   ]
  },
  {
   "cell_type": "markdown",
   "metadata": {},
   "source": [
    "# Dados\n",
    "\n",
    "* Para esta análise foram coletados 3 diferentes tipos de dados do site https://www.gapminder.org/:\n",
    "\n",
    "    1. Exportação por porcentagem de PIB\n",
    "    2. Importação por porcentagem de PIB\n",
    "    3. PIB per capita\n",
    "\n",
    "Com isto é possivel montar um data frame destes dados. É iportante apontar que usaremos o ano de 2004 como referência e ponto de comparação pois neste ano 10 países novos entraram na UE."
   ]
  },
  {
   "cell_type": "markdown",
   "metadata": {},
   "source": [
    "Estes dados serão utilizados para criar gráficos que comparam o crescimento tanto da importação quanto da exportação ambos de países da UE e de países que não tem pactos com esta. Além disso, Tabelas poderão ser montadas para comparar o PIB com a importação e exportação."
   ]
  },
  {
   "cell_type": "markdown",
   "metadata": {},
   "source": [
    "Inicia-se lendo os arquivos de excel e salvando-os em uma variavel."
   ]
  },
  {
   "cell_type": "code",
   "execution_count": 489,
   "metadata": {},
   "outputs": [],
   "source": [
    "Expo = pd.read_excel('exports_percent_of_gdp.xlsx')\n",
    "Impo = pd.read_excel('imports_percent_of_gdp.xlsx')\n",
    "PIB = pd.read_excel('income_per_person_gdppercapita_ppp_inflation_adjusted.xlsx')"
   ]
  },
  {
   "cell_type": "markdown",
   "metadata": {},
   "source": [
    "Agora são escolhidos os anos que serão analisados. Já que 10 paises novos entraram na UE em 2004 é interessante analisar o impacto que estes tiveram nos outros paises da UE e neles mesmos quando comparados a paises que nao fazem parte dos pactos econômicos. Por esta razão os dados são pegos desde 2000 até 2008."
   ]
  },
  {
   "cell_type": "code",
   "execution_count": 490,
   "metadata": {},
   "outputs": [],
   "source": [
    "i=0\n",
    "tempo = ['country']\n",
    "ano_inicial = 2000\n",
    "\n",
    "while i < 9:\n",
    "    tempo.append(ano_inicial)\n",
    "    ano_inicial += 1\n",
    "    i+=1\n",
    "\n",
    "Expo = Expo[tempo]\n",
    "Impo = Impo[tempo]\n",
    "PIB = PIB[tempo]"
   ]
  },
  {
   "cell_type": "markdown",
   "metadata": {},
   "source": [
    "## <font color='blue'>Selecionando somente Europa</font>\n",
    "\n",
    "Para separar somente paises da Europa foi pego uma lista na internet com todos os países da Europa e com isto foi criada uma lista para os dados então poderem ser selecionados de forma rápida e facil. Nota-se também que para isto poder dar certo o nome de alguns países foram alterados para não conter espaços."
   ]
  },
  {
   "cell_type": "code",
   "execution_count": 491,
   "metadata": {},
   "outputs": [],
   "source": [
    "Europe = 'Albania, Andorra, Armenia, Austria, Azerbajan, Belarus, Belgium, Bosnia, Bulgaria, Croatia, Cyprus, Czech, Denmark, Estonia, Finland, France, Georgia, Germany, Gibraltar, Greece, Hungary, Iceland, Ireland, Italy, Kazakhstan, Kosovo, Latvia, Lichenstein, Lithua, Luxembourg, Macedonia, Malta, Monaco, Moldova, Netherlands, Norway, Poland, Portugal, Romania, Russia, SanMarino, Serbia, Slovakia, Slovenia, Spain, Sweden, Switzerland, Turkey, Ukraine, UnitedKingdom'\n",
    "Europe = Europe.replace(' ', '')\n",
    "EuropeList = Europe.split(',')\n",
    "\n",
    "ExpoEurope = Expo[Expo.country.isin(EuropeList)]\n",
    "ImpoEurope = Impo[Impo.country.isin(EuropeList)]\n",
    "PIBEurope = PIB[PIB.country.isin(EuropeList)]\n"
   ]
  },
  {
   "cell_type": "markdown",
   "metadata": {},
   "source": [
    "Agora é adicionado uma variavel qualitativa para separar países da União Europeia e os fora dela. A lista dos países da União Europeia foi pego da mesma forma da lista dos países europeus e então foi utilizado o 'for' para poder pegar a frase necessaria para effetivamente adicionar uma nova coluna com a distinção de UE ou não. Contudo é crucial ressaltar que os seguintes países foram adicionados no grupo da UE mesmo não fazendo parte dela devido aos pactos citados na introdução: Islândia, Liechtenstein, Noruega, Suiça, Turquia, San Marino, Andorra e Mónaco. Todos os pactos entre estes países e a UE foram feitos antes do ano 2000, portanto sendo importante analisá-los também. Adicionalmente, três países que atualmente fazem parte da UE foram retirados da lista pois estes ingressaram ou no ano de 2007 como é o caso da Bulgaria e Romênia ou em 2013, caso da Croácia."
   ]
  },
  {
   "cell_type": "code",
   "execution_count": 492,
   "metadata": {},
   "outputs": [
    {
     "name": "stderr",
     "output_type": "stream",
     "text": [
      "/Users/EduardoGoncalves/anaconda3/lib/python3.7/site-packages/ipykernel_launcher.py:22: SettingWithCopyWarning: \n",
      "A value is trying to be set on a copy of a slice from a DataFrame.\n",
      "Try using .loc[row_indexer,col_indexer] = value instead\n",
      "\n",
      "See the caveats in the documentation: http://pandas.pydata.org/pandas-docs/stable/indexing.html#indexing-view-versus-copy\n",
      "/Users/EduardoGoncalves/anaconda3/lib/python3.7/site-packages/ipykernel_launcher.py:23: SettingWithCopyWarning: \n",
      "A value is trying to be set on a copy of a slice from a DataFrame.\n",
      "Try using .loc[row_indexer,col_indexer] = value instead\n",
      "\n",
      "See the caveats in the documentation: http://pandas.pydata.org/pandas-docs/stable/indexing.html#indexing-view-versus-copy\n",
      "/Users/EduardoGoncalves/anaconda3/lib/python3.7/site-packages/ipykernel_launcher.py:24: SettingWithCopyWarning: \n",
      "A value is trying to be set on a copy of a slice from a DataFrame.\n",
      "Try using .loc[row_indexer,col_indexer] = value instead\n",
      "\n",
      "See the caveats in the documentation: http://pandas.pydata.org/pandas-docs/stable/indexing.html#indexing-view-versus-copy\n"
     ]
    }
   ],
   "source": [
    "EUCountries = ['Andorra', 'Austria', 'Belgium', 'Cyprus', 'Czech', 'Denmark', 'Estonia', 'Finland', 'France', 'Germany', 'Greece', 'Hungary', 'Iceland', 'Ireland', 'Italy', 'Latvia', 'Liechtenstein', 'Lithuania', 'Luxembourg', 'Malta', 'Monaco', 'Netherlands', 'Norway', 'Poland', 'Portugal', 'SanMarino', 'Slovakia', 'Slovenia', 'Spain', 'Sweden', 'Switzerland', 'Turkey', 'UnitedKingdom']\n",
    "Statement = ''\n",
    "for i in EUCountries:\n",
    "    Statement += '(ExpoEurope.country == ' \"'\" + i + \"'\"')|'\n",
    "Statement = ''\n",
    "for i in EUCountries:\n",
    "    Statement += '(ImpoEurope.country == ' \"'\" + i + \"'\"')|'\n",
    "Statement = ''\n",
    "for i in EUCountries:\n",
    "    Statement += '(PIBEurope.country == ' \"'\" + i + \"'\"')|'\n",
    "    \n",
    "\n",
    "Statement = Statement.strip(Statement[len(Statement)-1])\n",
    "\n",
    "#print(Statement)\n",
    "\n",
    "\n",
    "\n",
    "StatementExpo = (ExpoEurope.country == 'Andorra')|(ExpoEurope.country == 'Austria')|(ExpoEurope.country == 'Belgium')|(ExpoEurope.country == 'Cyprus')|(ExpoEurope.country == 'Czech')|(ExpoEurope.country == 'Denmark')|(ExpoEurope.country == 'Estonia')|(ExpoEurope.country == 'Finland')|(ExpoEurope.country == 'France')|(ExpoEurope.country == 'Germany')|(ExpoEurope.country == 'Greece')|(ExpoEurope.country == 'Hungary')|(ExpoEurope.country == 'Iceland')|(ExpoEurope.country == 'Ireland')|(ExpoEurope.country == 'Italy')|(ExpoEurope.country == 'Latvia')|(ExpoEurope.country == 'Liechtenstein')|(ExpoEurope.country == 'Lithuania')|(ExpoEurope.country == 'Luxembourg')|(ExpoEurope.country == 'Malta')|(ExpoEurope.country == 'Monaco')|(ExpoEurope.country == 'Netherlands')|(ExpoEurope.country == 'Norway')|(ExpoEurope.country == 'Poland')|(ExpoEurope.country == 'Portugal')|(ExpoEurope.country == 'SanMarino')|(ExpoEurope.country == 'Slovakia')|(ExpoEurope.country == 'Slovenia')|(ExpoEurope.country == 'Spain')|(ExpoEurope.country == 'Sweden')|(ExpoEurope.country == 'Switzerland')|(ExpoEurope.country == 'Turkey')|(ExpoEurope.country == 'UnitedKingdom')\n",
    "StatementImpo = (ImpoEurope.country == 'Andorra')|(ImpoEurope.country == 'Austria')|(ImpoEurope.country == 'Belgium')|(ImpoEurope.country == 'Cyprus')|(ImpoEurope.country == 'Czech')|(ImpoEurope.country == 'Denmark')|(ImpoEurope.country == 'Estonia')|(ImpoEurope.country == 'Finland')|(ImpoEurope.country == 'France')|(ImpoEurope.country == 'Germany')|(ImpoEurope.country == 'Greece')|(ImpoEurope.country == 'Hungary')|(ImpoEurope.country == 'Iceland')|(ImpoEurope.country == 'Ireland')|(ImpoEurope.country == 'Italy')|(ImpoEurope.country == 'Latvia')|(ImpoEurope.country == 'Liechtenstein')|(ImpoEurope.country == 'Lithuania')|(ImpoEurope.country == 'Luxembourg')|(ImpoEurope.country == 'Malta')|(ImpoEurope.country == 'Monaco')|(ImpoEurope.country == 'Netherlands')|(ImpoEurope.country == 'Norway')|(ImpoEurope.country == 'Poland')|(ImpoEurope.country == 'Portugal')|(ImpoEurope.country == 'SanMarino')|(ImpoEurope.country == 'Slovakia')|(ImpoEurope.country == 'Slovenia')|(ImpoEurope.country == 'Spain')|(ImpoEurope.country == 'Sweden')|(ImpoEurope.country == 'Switzerland')|(ImpoEurope.country == 'Turkey')|(ImpoEurope.country == 'UnitedKingdom')\n",
    "StatementPIB = (PIBEurope.country == 'Andorra')|(PIBEurope.country == 'Austria')|(PIBEurope.country == 'Belgium')|(PIBEurope.country == 'Cyprus')|(PIBEurope.country == 'Czech')|(PIBEurope.country == 'Denmark')|(PIBEurope.country == 'Estonia')|(PIBEurope.country == 'Finland')|(PIBEurope.country == 'France')|(PIBEurope.country == 'Germany')|(PIBEurope.country == 'Greece')|(PIBEurope.country == 'Hungary')|(PIBEurope.country == 'Iceland')|(PIBEurope.country == 'Ireland')|(PIBEurope.country == 'Italy')|(PIBEurope.country == 'Latvia')|(PIBEurope.country == 'Liechtenstein')|(PIBEurope.country == 'Lithuania')|(PIBEurope.country == 'Luxembourg')|(PIBEurope.country == 'Malta')|(PIBEurope.country == 'Monaco')|(PIBEurope.country == 'Netherlands')|(PIBEurope.country == 'Norway')|(PIBEurope.country == 'Poland')|(PIBEurope.country == 'Portugal')|(PIBEurope.country == 'SanMarino')|(PIBEurope.country == 'Slovakia')|(PIBEurope.country == 'Slovenia')|(PIBEurope.country == 'Spain')|(PIBEurope.country == 'Sweden')|(PIBEurope.country == 'Switzerland')|(PIBEurope.country == 'Turkey')|(PIBEurope.country == 'UnitedKingdom')\n",
    "ExpoEurope['EU'] = np.select([StatementExpo], [1])\n",
    "ImpoEurope['EU'] = np.select([StatementImpo], [1])\n",
    "PIBEurope['EU'] = np.select([StatementPIB], [1])\n",
    "\n",
    "\n",
    "\n"
   ]
  },
  {
   "cell_type": "markdown",
   "metadata": {},
   "source": [
    "A seguir, muda-se o índice do data frame para facilitar o processo."
   ]
  },
  {
   "cell_type": "code",
   "execution_count": 493,
   "metadata": {},
   "outputs": [],
   "source": [
    "ExpoEurope = ExpoEurope.set_index('country')\n",
    "ImpoEurope = ImpoEurope.set_index('country')\n",
    "PIBEurope = PIBEurope.set_index('country')"
   ]
  },
  {
   "cell_type": "markdown",
   "metadata": {},
   "source": [
    "Em seguida o data frame é separado em 2, um somente com os países da UE e outro somente com os países que não fazem parte da UE."
   ]
  },
  {
   "cell_type": "code",
   "execution_count": 494,
   "metadata": {},
   "outputs": [],
   "source": [
    "ExpoEU = ExpoEurope[(ExpoEurope.EU == 1)]\n",
    "ExpoRestEurope = ExpoEurope[(ExpoEurope.EU == 0)]\n",
    "\n",
    "ImpoEU = ImpoEurope[(ImpoEurope.EU == 1)]\n",
    "ImpoRestEurope = ImpoEurope[(ImpoEurope.EU == 0)]\n",
    "\n",
    "PIBEU = PIBEurope[(PIBEurope.EU == 1)]\n",
    "PIBRestEurope = PIBEurope[(PIBEurope.EU == 0)]"
   ]
  },
  {
   "cell_type": "markdown",
   "metadata": {},
   "source": [
    "Para ter noção de comparação e poder verificar parte da hipótese é importante ter noção da relação entre importação, exportação e PIB. Logo, os dados são separados em 3 pontos cuciais: 2000, 2004 e 2008. Estas datas foram escolhidas com a intenção de mostrar a variação devido a entrada dos 10 países na UE em 2004. Contudo, outras datas poderiam ser escolhidas para mostrar o mesmo efeito."
   ]
  },
  {
   "cell_type": "code",
   "execution_count": 495,
   "metadata": {},
   "outputs": [],
   "source": [
    "##### 2000 #####\n",
    "\n",
    "ExpoEU_2000 = ExpoEU.iloc[:, 0].to_frame()\n",
    "ImpoEU_2000 = ImpoEU.iloc[:, 0].to_frame()\n",
    "PIBEU_2000 = PIBEU.iloc[:, 0].to_frame()\n",
    "PIBEU_2000 = PIBEU_2000.add_suffix('_PIB')\n",
    "\n",
    "ExpoRestEurope_2000 = ExpoRestEurope.iloc[:, 0].to_frame()\n",
    "ImpoRestEurope_2000 = ImpoRestEurope.iloc[:, 0].to_frame()\n",
    "PIBRestEurope_2000 = PIBRestEurope.iloc[:, 0].to_frame()\n",
    "PIBRestEurope_2000 = PIBRestEurope_2000.add_suffix('_PIB')\n",
    "\n",
    "\n",
    "##### 2004 #####\n",
    "\n",
    "ExpoEU_2004 = ExpoEU.iloc[:, 4].to_frame()\n",
    "ImpoEU_2004 = ImpoEU.iloc[:, 4].to_frame()\n",
    "PIBEU_2004 = PIBEU.iloc[:, 4].to_frame()\n",
    "PIBEU_2004 = PIBEU_2004.add_suffix('_PIB')\n",
    "\n",
    "ExpoRestEurope_2004 = ExpoRestEurope.iloc[:, 4].to_frame()\n",
    "ImpoRestEurope_2004 = ImpoRestEurope.iloc[:, 4].to_frame()\n",
    "PIBRestEurope_2004 = PIBRestEurope.iloc[:, 4].to_frame()\n",
    "PIBRestEurope_2004 = PIBRestEurope_2004.add_suffix('_PIB')\n",
    "\n",
    "\n",
    "##### 2008 #####\n",
    "\n",
    "ExpoEU_2008 = ExpoEU.iloc[:, 8].to_frame()\n",
    "ImpoEU_2008 = ImpoEU.iloc[:, 8].to_frame()\n",
    "PIBEU_2008 = PIBEU.iloc[:, 8].to_frame()\n",
    "PIBEU_2008 = PIBEU_2008.add_suffix('_PIB')\n",
    "\n",
    "ExpoRestEurope_2008 = ExpoRestEurope.iloc[:, 8].to_frame()\n",
    "ImpoRestEurope_2008 = ImpoRestEurope.iloc[:, 8].to_frame()\n",
    "PIBRestEurope_2008 = PIBRestEurope.iloc[:, 8].to_frame()\n",
    "PIBRestEurope_2008 = PIBRestEurope_2008.add_suffix('_PIB')"
   ]
  },
  {
   "cell_type": "code",
   "execution_count": 496,
   "metadata": {},
   "outputs": [],
   "source": [
    "##### 2000 #####\n",
    "\n",
    "data2000EU = ExpoEU_2000.join(ImpoEU_2000, how = 'inner', lsuffix = '_Expo', rsuffix = '_Impo')\n",
    "data2000EU = data2000EU.join(PIBEU_2000, how = 'inner')\n",
    "data2000RestEurope = ExpoRestEurope_2000.join(ImpoRestEurope_2000, how = 'inner', lsuffix = '_Expo', rsuffix = '_Impo')\n",
    "data2000RestEurope = data2000RestEurope.join(PIBRestEurope_2000, how = 'inner')\n",
    "\n",
    "\n",
    "##### 2004 #####\n",
    "\n",
    "data2004EU = ExpoEU_2004.join(ImpoEU_2004, how = 'inner', lsuffix = '_Expo', rsuffix = '_Impo')\n",
    "data2004EU = data2004EU.join(PIBEU_2004, how = 'inner')\n",
    "data2004RestEurope = ExpoRestEurope_2004.join(ImpoRestEurope_2004, how = 'inner', lsuffix = '_Expo', rsuffix = '_Impo')\n",
    "data2004RestEurope = data2004RestEurope.join(PIBRestEurope_2004, how = 'inner')\n",
    "\n",
    "\n",
    "##### 2008 #####\n",
    "\n",
    "data2008EU = ExpoEU_2008.join(ImpoEU_2008, how = 'inner', lsuffix = '_Expo', rsuffix = '_Impo')\n",
    "data2008EU = data2008EU.join(PIBEU_2008, how = 'inner')\n",
    "data2008RestEurope = ExpoRestEurope_2008.join(ImpoRestEurope_2008, how = 'inner', lsuffix = '_Expo', rsuffix = '_Impo')\n",
    "data2008RestEurope = data2008RestEurope.join(PIBRestEurope_2008, how = 'inner')"
   ]
  },
  {
   "cell_type": "code",
   "execution_count": 497,
   "metadata": {},
   "outputs": [
    {
     "data": {
      "text/html": [
       "<div>\n",
       "<style scoped>\n",
       "    .dataframe tbody tr th:only-of-type {\n",
       "        vertical-align: middle;\n",
       "    }\n",
       "\n",
       "    .dataframe tbody tr th {\n",
       "        vertical-align: top;\n",
       "    }\n",
       "\n",
       "    .dataframe thead th {\n",
       "        text-align: right;\n",
       "    }\n",
       "</style>\n",
       "<table border=\"1\" class=\"dataframe\">\n",
       "  <thead>\n",
       "    <tr style=\"text-align: right;\">\n",
       "      <th></th>\n",
       "      <th>2000_Expo</th>\n",
       "      <th>2000_Impo</th>\n",
       "      <th>2000_PIB</th>\n",
       "    </tr>\n",
       "    <tr>\n",
       "      <th>country</th>\n",
       "      <th></th>\n",
       "      <th></th>\n",
       "      <th></th>\n",
       "    </tr>\n",
       "  </thead>\n",
       "  <tbody>\n",
       "    <tr>\n",
       "      <th>Latvia</th>\n",
       "      <td>36.9</td>\n",
       "      <td>44.9</td>\n",
       "      <td>11200</td>\n",
       "    </tr>\n",
       "    <tr>\n",
       "      <th>Turkey</th>\n",
       "      <td>19.4</td>\n",
       "      <td>22.6</td>\n",
       "      <td>13900</td>\n",
       "    </tr>\n",
       "    <tr>\n",
       "      <th>Poland</th>\n",
       "      <td>27.2</td>\n",
       "      <td>33.6</td>\n",
       "      <td>14700</td>\n",
       "    </tr>\n",
       "  </tbody>\n",
       "</table>\n",
       "</div>"
      ],
      "text/plain": [
       "         2000_Expo  2000_Impo  2000_PIB\n",
       "country                                \n",
       "Latvia        36.9       44.9     11200\n",
       "Turkey        19.4       22.6     13900\n",
       "Poland        27.2       33.6     14700"
      ]
     },
     "execution_count": 497,
     "metadata": {},
     "output_type": "execute_result"
    }
   ],
   "source": [
    "data2000EU.sort_values(by='2000_PIB').head(3)"
   ]
  },
  {
   "cell_type": "code",
   "execution_count": 498,
   "metadata": {},
   "outputs": [
    {
     "data": {
      "text/html": [
       "<div>\n",
       "<style scoped>\n",
       "    .dataframe tbody tr th:only-of-type {\n",
       "        vertical-align: middle;\n",
       "    }\n",
       "\n",
       "    .dataframe tbody tr th {\n",
       "        vertical-align: top;\n",
       "    }\n",
       "\n",
       "    .dataframe thead th {\n",
       "        text-align: right;\n",
       "    }\n",
       "</style>\n",
       "<table border=\"1\" class=\"dataframe\">\n",
       "  <thead>\n",
       "    <tr style=\"text-align: right;\">\n",
       "      <th></th>\n",
       "      <th>2004_Expo</th>\n",
       "      <th>2004_Impo</th>\n",
       "      <th>2004_PIB</th>\n",
       "    </tr>\n",
       "    <tr>\n",
       "      <th>country</th>\n",
       "      <th></th>\n",
       "      <th></th>\n",
       "      <th></th>\n",
       "    </tr>\n",
       "  </thead>\n",
       "  <tbody>\n",
       "    <tr>\n",
       "      <th>Turkey</th>\n",
       "      <td>22.8</td>\n",
       "      <td>25.4</td>\n",
       "      <td>15200</td>\n",
       "    </tr>\n",
       "    <tr>\n",
       "      <th>Latvia</th>\n",
       "      <td>39.1</td>\n",
       "      <td>54.6</td>\n",
       "      <td>15600</td>\n",
       "    </tr>\n",
       "    <tr>\n",
       "      <th>Poland</th>\n",
       "      <td>34.3</td>\n",
       "      <td>36.9</td>\n",
       "      <td>16600</td>\n",
       "    </tr>\n",
       "  </tbody>\n",
       "</table>\n",
       "</div>"
      ],
      "text/plain": [
       "         2004_Expo  2004_Impo  2004_PIB\n",
       "country                                \n",
       "Turkey        22.8       25.4     15200\n",
       "Latvia        39.1       54.6     15600\n",
       "Poland        34.3       36.9     16600"
      ]
     },
     "execution_count": 498,
     "metadata": {},
     "output_type": "execute_result"
    }
   ],
   "source": [
    "data2004EU.sort_values(by='2004_PIB').head(3)"
   ]
  },
  {
   "cell_type": "code",
   "execution_count": 499,
   "metadata": {},
   "outputs": [
    {
     "data": {
      "text/html": [
       "<div>\n",
       "<style scoped>\n",
       "    .dataframe tbody tr th:only-of-type {\n",
       "        vertical-align: middle;\n",
       "    }\n",
       "\n",
       "    .dataframe tbody tr th {\n",
       "        vertical-align: top;\n",
       "    }\n",
       "\n",
       "    .dataframe thead th {\n",
       "        text-align: right;\n",
       "    }\n",
       "</style>\n",
       "<table border=\"1\" class=\"dataframe\">\n",
       "  <thead>\n",
       "    <tr style=\"text-align: right;\">\n",
       "      <th></th>\n",
       "      <th>2008_Expo</th>\n",
       "      <th>2008_Impo</th>\n",
       "      <th>2008_PIB</th>\n",
       "    </tr>\n",
       "    <tr>\n",
       "      <th>country</th>\n",
       "      <th></th>\n",
       "      <th></th>\n",
       "      <th></th>\n",
       "    </tr>\n",
       "  </thead>\n",
       "  <tbody>\n",
       "    <tr>\n",
       "      <th>Turkey</th>\n",
       "      <td>22.8</td>\n",
       "      <td>27.1</td>\n",
       "      <td>17800</td>\n",
       "    </tr>\n",
       "    <tr>\n",
       "      <th>Poland</th>\n",
       "      <td>37.9</td>\n",
       "      <td>42.9</td>\n",
       "      <td>20400</td>\n",
       "    </tr>\n",
       "    <tr>\n",
       "      <th>Latvia</th>\n",
       "      <td>39.5</td>\n",
       "      <td>52.5</td>\n",
       "      <td>21300</td>\n",
       "    </tr>\n",
       "  </tbody>\n",
       "</table>\n",
       "</div>"
      ],
      "text/plain": [
       "         2008_Expo  2008_Impo  2008_PIB\n",
       "country                                \n",
       "Turkey        22.8       27.1     17800\n",
       "Poland        37.9       42.9     20400\n",
       "Latvia        39.5       52.5     21300"
      ]
     },
     "execution_count": 499,
     "metadata": {},
     "output_type": "execute_result"
    }
   ],
   "source": [
    "data2008EU.sort_values(by='2008_PIB').head(3)"
   ]
  },
  {
   "cell_type": "code",
   "execution_count": 500,
   "metadata": {},
   "outputs": [
    {
     "data": {
      "image/png": "[encoded data removed]",
      "text/plain": [
       "<Figure size 432x288 with 1 Axes>"
      ]
     },
     "metadata": {
      "needs_background": "light"
     },
     "output_type": "display_data"
    }
   ],
   "source": [
    "ExpoEU_y = []\n",
    "i=2000\n",
    "\n",
    "while i<2009:\n",
    "    ExpoEU_y.append(ExpoEU[i].mean())\n",
    "    i +=1\n",
    "    \n",
    "\n",
    "ExpoRestEurope_y = []\n",
    "i= 2000\n",
    "\n",
    "while i<2009:\n",
    "    ExpoRestEurope_y.append(ExpoRestEurope[i].mean())\n",
    "    i +=1\n",
    "    \n",
    "\n",
    "    \n",
    "plt.plot(x, ExpoEU_y, label = 'UE')\n",
    "plt.plot(x, ExpoRestEurope_y, label = 'Outros países')\n",
    "plt.legend()\n",
    "plt.title('Exportação na Europa')\n",
    "plt.xlabel('Tempo (ano)')\n",
    "plt.grid(True)\n",
    "plt.ylabel('% do PIB')\n",
    "plt.show()"
   ]
  },
  {
   "cell_type": "code",
   "execution_count": 482,
   "metadata": {},
   "outputs": [
    {
     "data": {
      "text/html": [
       "<div>\n",
       "<style scoped>\n",
       "    .dataframe tbody tr th:only-of-type {\n",
       "        vertical-align: middle;\n",
       "    }\n",
       "\n",
       "    .dataframe tbody tr th {\n",
       "        vertical-align: top;\n",
       "    }\n",
       "\n",
       "    .dataframe thead th {\n",
       "        text-align: right;\n",
       "    }\n",
       "</style>\n",
       "<table border=\"1\" class=\"dataframe\">\n",
       "  <thead>\n",
       "    <tr style=\"text-align: right;\">\n",
       "      <th></th>\n",
       "      <th>2000</th>\n",
       "      <th>2001</th>\n",
       "      <th>2002</th>\n",
       "      <th>2003</th>\n",
       "      <th>2004</th>\n",
       "      <th>2005</th>\n",
       "      <th>2006</th>\n",
       "      <th>2007</th>\n",
       "      <th>2008</th>\n",
       "      <th>EU</th>\n",
       "    </tr>\n",
       "  </thead>\n",
       "  <tbody>\n",
       "    <tr>\n",
       "      <th>count</th>\n",
       "      <td>15.000000</td>\n",
       "      <td>15.000000</td>\n",
       "      <td>15.000000</td>\n",
       "      <td>15.000000</td>\n",
       "      <td>15.000000</td>\n",
       "      <td>15.000000</td>\n",
       "      <td>15.000000</td>\n",
       "      <td>15.000000</td>\n",
       "      <td>15.000000</td>\n",
       "      <td>15.0</td>\n",
       "    </tr>\n",
       "    <tr>\n",
       "      <th>mean</th>\n",
       "      <td>37.836667</td>\n",
       "      <td>37.546667</td>\n",
       "      <td>36.846667</td>\n",
       "      <td>37.820000</td>\n",
       "      <td>39.006667</td>\n",
       "      <td>38.560000</td>\n",
       "      <td>38.333333</td>\n",
       "      <td>37.993333</td>\n",
       "      <td>38.506667</td>\n",
       "      <td>0.0</td>\n",
       "    </tr>\n",
       "    <tr>\n",
       "      <th>std</th>\n",
       "      <td>17.872989</td>\n",
       "      <td>14.176029</td>\n",
       "      <td>13.787358</td>\n",
       "      <td>13.812737</td>\n",
       "      <td>14.384588</td>\n",
       "      <td>12.507187</td>\n",
       "      <td>11.895477</td>\n",
       "      <td>13.284280</td>\n",
       "      <td>14.494899</td>\n",
       "      <td>0.0</td>\n",
       "    </tr>\n",
       "    <tr>\n",
       "      <th>min</th>\n",
       "      <td>9.850000</td>\n",
       "      <td>18.400000</td>\n",
       "      <td>19.600000</td>\n",
       "      <td>20.400000</td>\n",
       "      <td>22.000000</td>\n",
       "      <td>21.000000</td>\n",
       "      <td>21.700000</td>\n",
       "      <td>19.200000</td>\n",
       "      <td>15.000000</td>\n",
       "      <td>0.0</td>\n",
       "    </tr>\n",
       "    <tr>\n",
       "      <th>25%</th>\n",
       "      <td>23.200000</td>\n",
       "      <td>26.050000</td>\n",
       "      <td>25.400000</td>\n",
       "      <td>29.000000</td>\n",
       "      <td>30.200000</td>\n",
       "      <td>29.700000</td>\n",
       "      <td>30.700000</td>\n",
       "      <td>28.250000</td>\n",
       "      <td>27.700000</td>\n",
       "      <td>0.0</td>\n",
       "    </tr>\n",
       "    <tr>\n",
       "      <th>50%</th>\n",
       "      <td>32.900000</td>\n",
       "      <td>36.900000</td>\n",
       "      <td>35.200000</td>\n",
       "      <td>32.900000</td>\n",
       "      <td>32.600000</td>\n",
       "      <td>34.800000</td>\n",
       "      <td>35.000000</td>\n",
       "      <td>33.300000</td>\n",
       "      <td>40.800000</td>\n",
       "      <td>0.0</td>\n",
       "    </tr>\n",
       "    <tr>\n",
       "      <th>75%</th>\n",
       "      <td>50.950000</td>\n",
       "      <td>47.900000</td>\n",
       "      <td>47.950000</td>\n",
       "      <td>48.250000</td>\n",
       "      <td>51.100000</td>\n",
       "      <td>51.300000</td>\n",
       "      <td>45.950000</td>\n",
       "      <td>46.150000</td>\n",
       "      <td>46.400000</td>\n",
       "      <td>0.0</td>\n",
       "    </tr>\n",
       "    <tr>\n",
       "      <th>max</th>\n",
       "      <td>69.200000</td>\n",
       "      <td>66.700000</td>\n",
       "      <td>63.600000</td>\n",
       "      <td>65.200000</td>\n",
       "      <td>67.900000</td>\n",
       "      <td>59.800000</td>\n",
       "      <td>60.100000</td>\n",
       "      <td>61.300000</td>\n",
       "      <td>62.700000</td>\n",
       "      <td>0.0</td>\n",
       "    </tr>\n",
       "  </tbody>\n",
       "</table>\n",
       "</div>"
      ],
      "text/plain": [
       "            2000       2001       2002       2003       2004       2005  \\\n",
       "count  15.000000  15.000000  15.000000  15.000000  15.000000  15.000000   \n",
       "mean   37.836667  37.546667  36.846667  37.820000  39.006667  38.560000   \n",
       "std    17.872989  14.176029  13.787358  13.812737  14.384588  12.507187   \n",
       "min     9.850000  18.400000  19.600000  20.400000  22.000000  21.000000   \n",
       "25%    23.200000  26.050000  25.400000  29.000000  30.200000  29.700000   \n",
       "50%    32.900000  36.900000  35.200000  32.900000  32.600000  34.800000   \n",
       "75%    50.950000  47.900000  47.950000  48.250000  51.100000  51.300000   \n",
       "max    69.200000  66.700000  63.600000  65.200000  67.900000  59.800000   \n",
       "\n",
       "            2006       2007       2008    EU  \n",
       "count  15.000000  15.000000  15.000000  15.0  \n",
       "mean   38.333333  37.993333  38.506667   0.0  \n",
       "std    11.895477  13.284280  14.494899   0.0  \n",
       "min    21.700000  19.200000  15.000000   0.0  \n",
       "25%    30.700000  28.250000  27.700000   0.0  \n",
       "50%    35.000000  33.300000  40.800000   0.0  \n",
       "75%    45.950000  46.150000  46.400000   0.0  \n",
       "max    60.100000  61.300000  62.700000   0.0  "
      ]
     },
     "execution_count": 482,
     "metadata": {},
     "output_type": "execute_result"
    }
   ],
   "source": [
    "ExpoEuropeOnly.describe()"
   ]
  },
  {
   "cell_type": "code",
   "execution_count": null,
   "metadata": {},
   "outputs": [],
   "source": []
  }
 ],
 "metadata": {
  "kernelspec": {
   "display_name": "Python 3",
   "language": "python",
   "name": "python3"
  },
  "language_info": {
   "codemirror_mode": {
    "name": "ipython",
    "version": 3
   },
   "file_extension": ".py",
   "mimetype": "text/x-python",
   "name": "python",
   "nbconvert_exporter": "python",
   "pygments_lexer": "ipython3",
   "version": "3.7.1"
  }
 },
 "nbformat": 4,
 "nbformat_minor": 2
}
